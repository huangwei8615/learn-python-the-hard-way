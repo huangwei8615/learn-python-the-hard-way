{
 "cells": [
  {
   "cell_type": "markdown",
   "metadata": {},
   "source": [
    "# 练习1：第一个程序"
   ]
  },
  {
   "cell_type": "code",
   "execution_count": 2,
   "metadata": {},
   "outputs": [
    {
     "name": "stdout",
     "output_type": "stream",
     "text": [
      "hello world!\n",
      "hello again\n",
      "I like typing this\n"
     ]
    }
   ],
   "source": [
    "print(\"hello world!\")\n",
    "print(\"hello again\")\n",
    "print(\"I like typing this\")"
   ]
  },
  {
   "cell_type": "markdown",
   "metadata": {},
   "source": [
    "# 练习2：注释"
   ]
  },
  {
   "cell_type": "code",
   "execution_count": 1,
   "metadata": {},
   "outputs": [
    {
     "name": "stdout",
     "output_type": "stream",
     "text": [
      "I could have code like this.\n"
     ]
    }
   ],
   "source": [
    "#A comment,this is so you can read your program later.\n",
    "#Anything after the # is ignored by python.\n",
    "\n",
    "print(\"I could have code like this.\")#and the comment after is ignored"
   ]
  },
  {
   "cell_type": "markdown",
   "metadata": {},
   "source": [
    "# 练习3：数字和算术"
   ]
  },
  {
   "cell_type": "code",
   "execution_count": 2,
   "metadata": {},
   "outputs": [
    {
     "data": {
      "text/plain": [
       "30.0"
      ]
     },
     "execution_count": 2,
     "metadata": {},
     "output_type": "execute_result"
    }
   ],
   "source": [
    "25 + 30 / 6"
   ]
  },
  {
   "cell_type": "code",
   "execution_count": 3,
   "metadata": {},
   "outputs": [
    {
     "data": {
      "text/plain": [
       "97"
      ]
     },
     "execution_count": 3,
     "metadata": {},
     "output_type": "execute_result"
    }
   ],
   "source": [
    "100 - 25 * 3 % 4"
   ]
  },
  {
   "cell_type": "code",
   "execution_count": 4,
   "metadata": {},
   "outputs": [
    {
     "data": {
      "text/plain": [
       "6.75"
      ]
     },
     "execution_count": 4,
     "metadata": {},
     "output_type": "execute_result"
    }
   ],
   "source": [
    "3 + 2 + 1 - 5 + 4 % 2 - 1 / 4 + 6"
   ]
  },
  {
   "cell_type": "code",
   "execution_count": 5,
   "metadata": {},
   "outputs": [
    {
     "data": {
      "text/plain": [
       "False"
      ]
     },
     "execution_count": 5,
     "metadata": {},
     "output_type": "execute_result"
    }
   ],
   "source": [
    "3 + 2 < 5 - 7"
   ]
  },
  {
   "cell_type": "code",
   "execution_count": 6,
   "metadata": {},
   "outputs": [
    {
     "data": {
      "text/plain": [
       "True"
      ]
     },
     "execution_count": 6,
     "metadata": {},
     "output_type": "execute_result"
    }
   ],
   "source": [
    "5 > - 2"
   ]
  },
  {
   "cell_type": "markdown",
   "metadata": {},
   "source": [
    "# 练习4 ：变量"
   ]
  },
  {
   "cell_type": "code",
   "execution_count": 10,
   "metadata": {},
   "outputs": [
    {
     "name": "stdout",
     "output_type": "stream",
     "text": [
      "There are  100  cars available.\n",
      "There are only  30  drivers available.\n",
      "There will be  70 empty cars today.\n",
      "We can transport 120.0  people today.\n",
      "We have  90  to carpool today.\n",
      "We need to put about  3.0  in each car.\n"
     ]
    }
   ],
   "source": [
    "cars = 100\n",
    "space_in_car = 4.0\n",
    "drivers = 30\n",
    "passengers = 90\n",
    "cars_not_driven = cars - drivers\n",
    "cars_driven = drivers\n",
    "carpool_capacity = cars_driven * space_in_car\n",
    "average_passengers_per_car = passengers / cars_driven\n",
    "\n",
    "print(\"There are \", cars, \" cars available.\")\n",
    "print(\"There are only \", drivers, \" drivers available.\")\n",
    "print(\"There will be \", cars_not_driven, \"empty cars today.\")\n",
    "print(\"We can transport\", carpool_capacity,\" people today.\")\n",
    "print(\"We have \", passengers, \" to carpool today.\")\n",
    "print(\"We need to put about \", average_passengers_per_car, \" in each car.\")"
   ]
  },
  {
   "cell_type": "markdown",
   "metadata": {},
   "source": [
    "# 练习5：更多变量练习"
   ]
  },
  {
   "cell_type": "code",
   "execution_count": 11,
   "metadata": {},
   "outputs": [
    {
     "name": "stdout",
     "output_type": "stream",
     "text": [
      "Let's talk about Huang Wei.\n",
      "He's 190 centimeters tall.\n",
      "He's 65 kilograms heavy.\n",
      "Actually that's not too heavy.\n",
      "He's got Black eyes and Brown hair.\n",
      "His teeth are usually White depending on the coffee.\n",
      "If I add 33, 190, and 65 I get 288.\n"
     ]
    }
   ],
   "source": [
    "my_name = 'Huang Wei'\n",
    "my_age = 33\n",
    "my_height = 190 #centimeter\n",
    "my_weight = 65 # 公斤\n",
    "my_eyes = 'Black'\n",
    "my_teeth = 'White'\n",
    "my_hair = 'Brown'\n",
    "\n",
    "print(f\"Let's talk about {my_name}.\")\n",
    "print(f\"He's {my_height} centimeters tall.\")\n",
    "print(f\"He's {my_weight} kilograms heavy.\")\n",
    "print(\"Actually that's not too heavy.\")\n",
    "print(f\"He's got {my_eyes} eyes and {my_hair} hair.\")\n",
    "print(f\"His teeth are usually {my_teeth} depending on the coffee.\")\n",
    "\n",
    "#this line is tricky, try to get it exactly right\n",
    "total = my_age + my_height + my_weight\n",
    "print(f\"If I add {my_age}, {my_height}, and {my_weight} I get {total}.\")"
   ]
  },
  {
   "cell_type": "markdown",
   "metadata": {},
   "source": [
    "# 练习6：字符串和文本"
   ]
  },
  {
   "cell_type": "code",
   "execution_count": 12,
   "metadata": {},
   "outputs": [
    {
     "name": "stdout",
     "output_type": "stream",
     "text": [
      "There are 10 types of people.\n",
      "Those who know binary and those who don't.\n",
      "I said :There are 10 types of people..\n",
      "I also said: 'Those who know binary and those who don't.'\n",
      "Isn't that joke so fuuny?! False\n",
      "This is the left side of ...a string with a right side.\n"
     ]
    }
   ],
   "source": [
    "types_of_people = 10\n",
    "x = f\"There are {types_of_people} types of people.\"\n",
    "\n",
    "binary = \"binary\"\n",
    "do_not = \"don't\"\n",
    "y = f\"Those who know {binary} and those who {do_not}.\"\n",
    "\n",
    "print(x)\n",
    "print(y)\n",
    "\n",
    "print(f\"I said :{x}.\")\n",
    "print(f\"I also said: '{y}'\")\n",
    "\n",
    "hilarious = False\n",
    "joke_evaluation = \"Isn't that joke so fuuny?! {}\"\n",
    "print(joke_evaluation.format(hilarious))\n",
    "\n",
    "w = \"This is the left side of ...\"\n",
    "e = \"a string with a right side.\"\n",
    "\n",
    "print(w + e)"
   ]
  },
  {
   "cell_type": "markdown",
   "metadata": {},
   "source": [
    "# 练习7：更多输出"
   ]
  },
  {
   "cell_type": "code",
   "execution_count": 13,
   "metadata": {},
   "outputs": [
    {
     "name": "stdout",
     "output_type": "stream",
     "text": [
      "Mary had a little lamb.\n",
      "Its fleece was white as snow.\n",
      "And everywhere that Mary went.\n",
      "..........\n",
      "Cheese Burger\n"
     ]
    }
   ],
   "source": [
    "print(\"Mary had a little lamb.\")\n",
    "print(\"Its fleece was white as {}.\".format('snow'))\n",
    "print(\"And everywhere that Mary went.\")\n",
    "print(\".\" * 10) # what'd that do?\n",
    "\n",
    "end1 = \"C\"\n",
    "end2 = \"h\"\n",
    "end3 = 'e'\n",
    "end4 = 'e'\n",
    "end5 = 's'\n",
    "end6 = 'e'\n",
    "end7 = 'B'\n",
    "end8 = 'u'\n",
    "end9 = 'r'\n",
    "end10 = 'g'\n",
    "end11 = 'e'\n",
    "end12 = 'r'\n",
    "\n",
    "#watch end = '' at the end. try removing it to see what happens\n",
    "print(end1 + end2 + end3 + end4 + end5 + end6, end = ' ')\n",
    "print(end7 + end8 + end9 + end10 + end11 + end12)"
   ]
  },
  {
   "cell_type": "markdown",
   "metadata": {},
   "source": [
    "# 练习8：输出 输出"
   ]
  },
  {
   "cell_type": "code",
   "execution_count": 17,
   "metadata": {},
   "outputs": [
    {
     "name": "stdout",
     "output_type": "stream",
     "text": [
      "1 2 3 4\n",
      "one two three four\n",
      "True False False True\n",
      "{} {} {} {} {} {} {} {} {} {} {} {} {} {} {} {}\n",
      "Try your Own text here Maybe a poem Or a song about fear\n"
     ]
    }
   ],
   "source": [
    "formatter = \"{} {} {} {}\"\n",
    "\n",
    "print(formatter.format(1, 2, 3, 4))\n",
    "print(formatter.format(\"one\", \"two\", \"three\", \"four\"))\n",
    "print(formatter.format(True, False, False, True))\n",
    "print(formatter.format(formatter, formatter, formatter, formatter))\n",
    "print(formatter.format(\n",
    "        \"Try your\",\n",
    "        \"Own text here\",\n",
    "        \"Maybe a poem\",\n",
    "        \"Or a song about fear\"))"
   ]
  },
  {
   "cell_type": "markdown",
   "metadata": {},
   "source": [
    "# 练习9 ：输出 输出 输出"
   ]
  },
  {
   "cell_type": "code",
   "execution_count": 19,
   "metadata": {},
   "outputs": [
    {
     "name": "stdout",
     "output_type": "stream",
     "text": [
      "Here are the days:  Mon Tue Wed Thu Fri Sat Sun\n",
      "Here are the months:  Jan\n",
      "Feb\n",
      "Mar\n",
      "Apr\n",
      "May\n",
      "Jun\n",
      "Jul\n",
      "Aug\n",
      "\n",
      "    There's something going on here.\n",
      "    with three double-quotes.\n",
      "    we'll be able to type as much as we like.\n",
      "    even 4 lines if we want, or 5, or 6.\n"
     ]
    }
   ],
   "source": [
    "# Here's some new strange stuff, remember type it exactly.\n",
    "\n",
    "days = \"Mon Tue Wed Thu Fri Sat Sun\"\n",
    "months = \"Jan\\nFeb\\nMar\\nApr\\nMay\\nJun\\nJul\\nAug\"\n",
    "\n",
    "print(\"Here are the days: \",days)\n",
    "print(\"Here are the months: \", months)\n",
    "\n",
    "print(\"\"\"\n",
    "    There's something going on here.\n",
    "    with three double-quotes.\n",
    "    we'll be able to type as much as we like.\n",
    "    even 4 lines if we want, or 5, or 6.\"\"\")"
   ]
  },
  {
   "cell_type": "markdown",
   "metadata": {},
   "source": [
    "# 练习10 ： 转义字符\n"
   ]
  },
  {
   "cell_type": "code",
   "execution_count": 20,
   "metadata": {},
   "outputs": [
    {
     "name": "stdout",
     "output_type": "stream",
     "text": [
      "\tI'm tabbed in. \n",
      "I'm split\n",
      "on a line.\n",
      "I'm \\ a \\ cat.\n",
      "\n",
      "    I'll do a list:\n",
      "    \t* cat food\n",
      "    \t* fishies\n",
      "    \t* catnip\n",
      "\t* grass\n",
      "    \n"
     ]
    }
   ],
   "source": [
    "tabby_cat = \"\\tI'm tabbed in. \"\n",
    "persian_cat = \"I'm split\\non a line.\"\n",
    "backslash_cat = \"I'm \\\\ a \\\\ cat.\"\n",
    "\n",
    "fat_cat = \"\"\"\n",
    "    I'll do a list:\n",
    "    \\t* cat food\n",
    "    \\t* fishies\n",
    "    \\t* catnip\\n\\t* grass\n",
    "    \"\"\"\n",
    "\n",
    "print(tabby_cat)\n",
    "print(persian_cat)\n",
    "print(backslash_cat)\n",
    "print(fat_cat)"
   ]
  },
  {
   "cell_type": "markdown",
   "metadata": {},
   "source": [
    "# 练习11：提问"
   ]
  },
  {
   "cell_type": "code",
   "execution_count": 21,
   "metadata": {},
   "outputs": [
    {
     "name": "stdout",
     "output_type": "stream",
     "text": [
      "how old are you?33\n",
      "how tall are you?190\n",
      "how much do you weigh?65\n",
      "so, you're 33 old, 190 tall and 65 heavy.\n"
     ]
    }
   ],
   "source": [
    "print(\"how old are you?\", end = '')\n",
    "age = input()\n",
    "\n",
    "print(\"how tall are you?\", end = '')\n",
    "height = input()\n",
    "\n",
    "print(\"how much do you weigh?\", end = '')\n",
    "weight = input()\n",
    "\n",
    "print(f\"so, you're {age} old, {height} tall and {weight} heavy.\")"
   ]
  },
  {
   "cell_type": "markdown",
   "metadata": {},
   "source": [
    "# 练习12"
   ]
  },
  {
   "cell_type": "code",
   "execution_count": 23,
   "metadata": {},
   "outputs": [
    {
     "name": "stdout",
     "output_type": "stream",
     "text": [
      "how old are you?33\n",
      "how tall are you?190\n",
      "how much dou you weigh?65\n",
      "so, you're 33 old, 190 tall and 65 heavy.\n"
     ]
    }
   ],
   "source": [
    "age = input(\"how old are you?\")\n",
    "height = input(\"how tall are you?\")\n",
    "weight = input(\"how much dou you weigh?\")\n",
    "\n",
    "print(f\"so, you're {age} old, {height} tall and {weight} heavy.\")"
   ]
  },
  {
   "cell_type": "markdown",
   "metadata": {},
   "source": [
    "# 练习13：参数、变量"
   ]
  },
  {
   "cell_type": "code",
   "execution_count": 33,
   "metadata": {},
   "outputs": [
    {
     "ename": "ValueError",
     "evalue": "not enough values to unpack (expected 4, got 3)",
     "output_type": "error",
     "traceback": [
      "\u001b[1;31m---------------------------------------------------------------------------\u001b[0m",
      "\u001b[1;31mValueError\u001b[0m                                Traceback (most recent call last)",
      "\u001b[1;32m<ipython-input-33-5e044e9cfdf5>\u001b[0m in \u001b[0;36m<module>\u001b[1;34m\u001b[0m\n\u001b[0;32m      2\u001b[0m \u001b[1;31m#read the WYSS section for how tou run this\u001b[0m\u001b[1;33m\u001b[0m\u001b[1;33m\u001b[0m\u001b[1;33m\u001b[0m\u001b[0m\n\u001b[0;32m      3\u001b[0m \u001b[1;33m\u001b[0m\u001b[0m\n\u001b[1;32m----> 4\u001b[1;33m \u001b[0mscript\u001b[0m\u001b[1;33m,\u001b[0m \u001b[0mfirst\u001b[0m\u001b[1;33m,\u001b[0m \u001b[0msecond\u001b[0m\u001b[1;33m,\u001b[0m \u001b[0mthird\u001b[0m \u001b[1;33m=\u001b[0m \u001b[0margv\u001b[0m\u001b[1;33m\u001b[0m\u001b[1;33m\u001b[0m\u001b[0m\n\u001b[0m\u001b[0;32m      5\u001b[0m \u001b[1;33m\u001b[0m\u001b[0m\n\u001b[0;32m      6\u001b[0m \u001b[0mprint\u001b[0m\u001b[1;33m(\u001b[0m\u001b[1;34m\"the script is called:\"\u001b[0m\u001b[1;33m,\u001b[0m \u001b[0mscript\u001b[0m\u001b[1;33m)\u001b[0m\u001b[1;33m\u001b[0m\u001b[1;33m\u001b[0m\u001b[0m\n",
      "\u001b[1;31mValueError\u001b[0m: not enough values to unpack (expected 4, got 3)"
     ]
    }
   ],
   "source": [
    "from sys import argv\n",
    "#read the WYSS section for how tou run this\n",
    "\n",
    "script, first, second, third = argv\n",
    "\n",
    "print(\"the script is called:\", script)\n",
    "print(\"your first variable is:\",first)\n",
    "print(\"your second variable is:\",second)\n",
    "print(\"your third variable is:\", third)\n",
    "\n",
    "#保存成.py 文件，然后在命令行执行.py 文件，并输入参数\n",
    "#python ex13.py huangwei huangdou longyan"
   ]
  },
  {
   "cell_type": "markdown",
   "metadata": {},
   "source": [
    "# 练习14：传入参数"
   ]
  },
  {
   "cell_type": "code",
   "execution_count": null,
   "metadata": {},
   "outputs": [],
   "source": [
    "from sys import argv\n",
    "\n",
    "script, user_name = argv\n",
    "prompt = ' > '\n",
    "\n",
    "print(f\"hi {user_name}, I'm the {script} script.\")\n",
    "print(\"I'd like to ask you a few questions.\")\n",
    "print(f\"do you like me {user_name}?\")\n",
    "likes = input(prompt)\n",
    "\n",
    "print(f\"where do you live {user_name}?\")\n",
    "lives = input(prompt)\n",
    "\n",
    "print(f\"\"\"\n",
    "alright, so you said {likes} about liking me.\n",
    "you live in {lives}.not sure where that is.\"\"\")\n",
    "\n",
    "#保存成.py 文件，然后在命令行执行.py 文件，并输入参数\n",
    "#python ex14.py huangwei"
   ]
  },
  {
   "cell_type": "markdown",
   "metadata": {},
   "source": [
    "# 练习15：读取文件"
   ]
  },
  {
   "cell_type": "code",
   "execution_count": null,
   "metadata": {},
   "outputs": [],
   "source": [
    "from sys import argv\n",
    "\n",
    "script,filename = argv\n",
    "\n",
    "txt = open(filename)\n",
    "\n",
    "print(f\"here's your file {filename}:\")\n",
    "print(txt.read())\n",
    "\n",
    "print(\"type the filename again:\")\n",
    "file_again = input(\"> \")\n",
    "\n",
    "txt_again = open(file_again)\n",
    "\n",
    "print(txt_again.read())"
   ]
  },
  {
   "cell_type": "markdown",
   "metadata": {},
   "source": [
    "# 练习16：读写文件"
   ]
  },
  {
   "cell_type": "code",
   "execution_count": null,
   "metadata": {},
   "outputs": [],
   "source": [
    "from sys import argv\n",
    "\n",
    "script, filename = argv\n",
    "\n",
    "print(f\"we're going to erase{filename}.\")\n",
    "print(\"if you don't want that,hit CTRL-C(^C).\")\n",
    "print(\"if you do want that, hit RETURN.\")\n",
    "\n",
    "input(\"?\")\n",
    "\n",
    "print(\"opening the file...\")\n",
    "target = open(filename, 'w')\n",
    "\n",
    "print(\"truncating the file. goodbye\")\n",
    "target.truncate()\n",
    "\n",
    "print(\"now i'm going to ask you for three lines.\")\n",
    "line1 = input(\"line 1: \")\n",
    "line2 = input(\"line 2: \")\n",
    "line3 = input(\"line 3: \")\n",
    "\n",
    "print(\"i'm going to write these to the file.\")\n",
    "\n",
    "target.write(line1)\n",
    "target.write(\"\\n\")\n",
    "target.write(line2)\n",
    "target.write(\"\\n\")\n",
    "target.write(line3)\n",
    "target.write(\"\\n\")\n",
    "\n",
    "print(\"and finally, we close it.\")\n",
    "target.close()"
   ]
  },
  {
   "cell_type": "markdown",
   "metadata": {},
   "source": [
    "# 练习17：把一个文件内容复制到另外一个文件"
   ]
  },
  {
   "cell_type": "code",
   "execution_count": null,
   "metadata": {},
   "outputs": [],
   "source": [
    "from sys import argv\n",
    "from os.path import exists\n",
    "\n",
    "script, from_file, to_file = argv\n",
    "\n",
    "print(\"copying from {from_file} to {to_file}\")\n",
    "\n",
    "#we could do these two on one line, how?\n",
    "in_file = open(from_file)\n",
    "indata = in_file.read()\n",
    "\n",
    "print(f\"the input file is {len(indata)} bytes long\")\n",
    "\n",
    "print(f\"does the output file exist? {exist(to_file)}\")\n",
    "print(\"ready, hit return to continue, CTRL-C to abort.\")\n",
    "input()\n",
    "\n",
    "out_file = open(to_file, 'w')\n",
    "out_file.write(indata)\n",
    "\n",
    "print(\"alright, all done\")\n",
    "\n",
    "out_file.close()\n",
    "in_file.close()"
   ]
  },
  {
   "cell_type": "markdown",
   "metadata": {},
   "source": [
    "# 练习18：名字、变量、代码、函数"
   ]
  },
  {
   "cell_type": "code",
   "execution_count": 1,
   "metadata": {},
   "outputs": [
    {
     "name": "stdout",
     "output_type": "stream",
     "text": [
      "arg1: zed, arg2: shaw\n",
      "arg1: zed, arg2: shaw\n",
      "arg1: first\n",
      "i got nothin'.\n"
     ]
    }
   ],
   "source": [
    "#this one is like your scripts with argv\n",
    "def print_two(*args):\n",
    "    arg1, arg2 = args\n",
    "    print(f\"arg1: {arg1}, arg2: {arg2}\")\n",
    "    \n",
    "#ok, that *args is actually pointless, we can just do this\n",
    "def print_two_again(arg1,arg2):\n",
    "    print(f\"arg1: {arg1}, arg2: {arg2}\")\n",
    "    \n",
    "#this just takes one argument\n",
    "def print_one(arg1):\n",
    "    print(f\"arg1: {arg1}\")\n",
    "    \n",
    "#this one takes no arguments\n",
    "def print_none():\n",
    "    print(\"i got nothin'.\")\n",
    "    \n",
    "print_two(\"zed\", \"shaw\")\n",
    "print_two_again(\"zed\",\"shaw\")\n",
    "print_one(\"first\")\n",
    "print_none()"
   ]
  },
  {
   "cell_type": "markdown",
   "metadata": {},
   "source": [
    "# 练习19：函数和变量"
   ]
  },
  {
   "cell_type": "code",
   "execution_count": 2,
   "metadata": {},
   "outputs": [
    {
     "name": "stdout",
     "output_type": "stream",
     "text": [
      "we can just give the function numbers directly:\n",
      "you have 20 cheeses!\n",
      "you have 30 boxes of crackers\n",
      "man that's enough for a party\n",
      "get a blanket.\n",
      "\n",
      "or, we can use variables from our script:\n",
      "you have 10 cheeses!\n",
      "you have 50 boxes of crackers\n",
      "man that's enough for a party\n",
      "get a blanket.\n",
      "\n",
      "we can even do math inside too: \n",
      "you have 30 cheeses!\n",
      "you have 11 boxes of crackers\n",
      "man that's enough for a party\n",
      "get a blanket.\n",
      "\n",
      "and we can combine the two, variables and math: \n",
      "you have 110 cheeses!\n",
      "you have 1050 boxes of crackers\n",
      "man that's enough for a party\n",
      "get a blanket.\n",
      "\n"
     ]
    }
   ],
   "source": [
    "def cheese_and_crackers(cheese_count, boxes_of_crackers):\n",
    "    print(f\"you have {cheese_count} cheeses!\")\n",
    "    print(f\"you have {boxes_of_crackers} boxes of crackers\")\n",
    "    print(\"man that's enough for a party\")\n",
    "    print(\"get a blanket.\\n\")\n",
    "    \n",
    "print(\"we can just give the function numbers directly:\")\n",
    "cheese_and_crackers(20,30)\n",
    "\n",
    "print(\"or, we can use variables from our script:\")\n",
    "amount_of_cheese = 10\n",
    "amount_of_crackers = 50\n",
    "\n",
    "cheese_and_crackers(amount_of_cheese, amount_of_crackers)\n",
    "\n",
    "print(\"we can even do math inside too: \")\n",
    "cheese_and_crackers(10 + 20, 5 + 6)\n",
    "\n",
    "print(\"and we can combine the two, variables and math: \")\n",
    "cheese_and_crackers(amount_of_cheese + 100, amount_of_crackers + 1000)\n"
   ]
  },
  {
   "cell_type": "markdown",
   "metadata": {},
   "source": [
    "# 练习20：函数和文件"
   ]
  },
  {
   "cell_type": "code",
   "execution_count": null,
   "metadata": {},
   "outputs": [],
   "source": [
    "from sys import argv\n",
    "\n",
    "script, input_file = argv\n",
    "\n",
    "#定义print_all 函数，用来读取文件\n",
    "def print_all(f):\n",
    "    print(f.read())\n",
    "\n",
    "#定义rewind 函数，寻找指定行\n",
    "def rewind(f):\n",
    "    f.seek(0)\n",
    "\n",
    "#打印行序号，读取文件\n",
    "def print_a_line(line_count, f):\n",
    "    print(line_count, f.readline())\n",
    "    \n",
    "current_file = open(input_file)\n",
    "\n",
    "print(\"first let's print the whole file:\\n\")\n",
    "\n",
    "print_all(current_file)\n",
    "\n",
    "print(\"now let's rewind, kind of like a tape.\")\n",
    "\n",
    "rewind(current_file)\n",
    "\n",
    "print(\"let's print three lines:\")\n",
    "\n",
    "current_line = 1\n",
    "print_a_line(current_line, current_file)\n",
    "\n",
    "current_line = current_line + 1\n",
    "print_a_line(current_line, current_file)\n",
    "\n",
    "current_line = current_line + 1\n",
    "print_a_line(current_line, current_file)"
   ]
  },
  {
   "cell_type": "code",
   "execution_count": null,
   "metadata": {},
   "outputs": [],
   "source": []
  },
  {
   "cell_type": "code",
   "execution_count": null,
   "metadata": {},
   "outputs": [],
   "source": []
  },
  {
   "cell_type": "code",
   "execution_count": null,
   "metadata": {},
   "outputs": [],
   "source": []
  },
  {
   "cell_type": "code",
   "execution_count": null,
   "metadata": {},
   "outputs": [],
   "source": []
  },
  {
   "cell_type": "code",
   "execution_count": null,
   "metadata": {},
   "outputs": [],
   "source": []
  },
  {
   "cell_type": "code",
   "execution_count": null,
   "metadata": {},
   "outputs": [],
   "source": []
  },
  {
   "cell_type": "code",
   "execution_count": null,
   "metadata": {},
   "outputs": [],
   "source": []
  },
  {
   "cell_type": "code",
   "execution_count": null,
   "metadata": {},
   "outputs": [],
   "source": []
  },
  {
   "cell_type": "code",
   "execution_count": null,
   "metadata": {},
   "outputs": [],
   "source": []
  },
  {
   "cell_type": "code",
   "execution_count": null,
   "metadata": {},
   "outputs": [],
   "source": []
  },
  {
   "cell_type": "code",
   "execution_count": null,
   "metadata": {},
   "outputs": [],
   "source": []
  },
  {
   "cell_type": "code",
   "execution_count": null,
   "metadata": {},
   "outputs": [],
   "source": []
  },
  {
   "cell_type": "code",
   "execution_count": null,
   "metadata": {},
   "outputs": [],
   "source": []
  },
  {
   "cell_type": "code",
   "execution_count": null,
   "metadata": {},
   "outputs": [],
   "source": []
  }
 ],
 "metadata": {
  "kernelspec": {
   "display_name": "Python 3",
   "language": "python",
   "name": "python3"
  },
  "language_info": {
   "codemirror_mode": {
    "name": "ipython",
    "version": 3
   },
   "file_extension": ".py",
   "mimetype": "text/x-python",
   "name": "python",
   "nbconvert_exporter": "python",
   "pygments_lexer": "ipython3",
   "version": "3.7.1"
  }
 },
 "nbformat": 4,
 "nbformat_minor": 2
}
